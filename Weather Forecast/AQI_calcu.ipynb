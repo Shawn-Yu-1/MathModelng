{
 "cells": [
  {
   "cell_type": "markdown",
   "metadata": {},
   "source": [
    "本项目主要来计算基于各空气污染物的监测水平，计算IAQI， 再基于IAQI计算整体空气质量指数（AQI）  \n",
    "计算公式如下：  \n",
    ">   $IAQI_{p}=\\dfrac{(IAQI_{HI} - IAQI_{LO})}{(HP_{HI} - BP_{LO})}·(C_{p}-BP_{LO})+IAQI_{LO}$  \n",
    ">   $AQI = MAX\\{IAQI_{1}, ···\\}$"
   ]
  },
  {
   "cell_type": "code",
   "execution_count": 40,
   "metadata": {},
   "outputs": [
    {
     "data": {
      "text/html": [
       "<div>\n",
       "<style scoped>\n",
       "    .dataframe tbody tr th:only-of-type {\n",
       "        vertical-align: middle;\n",
       "    }\n",
       "\n",
       "    .dataframe tbody tr th {\n",
       "        vertical-align: top;\n",
       "    }\n",
       "\n",
       "    .dataframe thead th {\n",
       "        text-align: right;\n",
       "    }\n",
       "</style>\n",
       "<table border=\"1\" class=\"dataframe\">\n",
       "  <thead>\n",
       "    <tr style=\"text-align: right;\">\n",
       "      <th></th>\n",
       "      <th>监测日期</th>\n",
       "      <th>地点</th>\n",
       "      <th>SO2监测浓度(μg/m³)</th>\n",
       "      <th>NO2监测浓度(μg/m³)</th>\n",
       "      <th>PM10监测浓度(μg/m³)</th>\n",
       "      <th>PM2.5监测浓度(μg/m³)</th>\n",
       "      <th>O3最大八小时滑动平均监测浓度(μg/m³)</th>\n",
       "      <th>CO监测浓度(mg/m³)</th>\n",
       "    </tr>\n",
       "  </thead>\n",
       "  <tbody>\n",
       "    <tr>\n",
       "      <th>131</th>\n",
       "      <td>2019-08-25</td>\n",
       "      <td>监测点A</td>\n",
       "      <td>9.0</td>\n",
       "      <td>27.0</td>\n",
       "      <td>50.0</td>\n",
       "      <td>39.0</td>\n",
       "      <td>70.0</td>\n",
       "      <td>0.8</td>\n",
       "    </tr>\n",
       "    <tr>\n",
       "      <th>132</th>\n",
       "      <td>2019-08-26</td>\n",
       "      <td>监测点A</td>\n",
       "      <td>5.0</td>\n",
       "      <td>24.0</td>\n",
       "      <td>20.0</td>\n",
       "      <td>14.0</td>\n",
       "      <td>60.0</td>\n",
       "      <td>0.6</td>\n",
       "    </tr>\n",
       "    <tr>\n",
       "      <th>133</th>\n",
       "      <td>2019-08-27</td>\n",
       "      <td>监测点A</td>\n",
       "      <td>4.0</td>\n",
       "      <td>26.0</td>\n",
       "      <td>NaN</td>\n",
       "      <td>9.0</td>\n",
       "      <td>56.0</td>\n",
       "      <td>0.6</td>\n",
       "    </tr>\n",
       "    <tr>\n",
       "      <th>134</th>\n",
       "      <td>2019-08-28</td>\n",
       "      <td>监测点A</td>\n",
       "      <td>6.0</td>\n",
       "      <td>32.0</td>\n",
       "      <td>42.0</td>\n",
       "      <td>20.0</td>\n",
       "      <td>170.0</td>\n",
       "      <td>0.6</td>\n",
       "    </tr>\n",
       "  </tbody>\n",
       "</table>\n",
       "</div>"
      ],
      "text/plain": [
       "          监测日期    地点  SO2监测浓度(μg/m³)  NO2监测浓度(μg/m³)  PM10监测浓度(μg/m³)  \\\n",
       "131 2019-08-25  监测点A             9.0            27.0             50.0   \n",
       "132 2019-08-26  监测点A             5.0            24.0             20.0   \n",
       "133 2019-08-27  监测点A             4.0            26.0              NaN   \n",
       "134 2019-08-28  监测点A             6.0            32.0             42.0   \n",
       "\n",
       "     PM2.5监测浓度(μg/m³)  O3最大八小时滑动平均监测浓度(μg/m³)  CO监测浓度(mg/m³)  \n",
       "131              39.0                    70.0            0.8  \n",
       "132              14.0                    60.0            0.6  \n",
       "133               9.0                    56.0            0.6  \n",
       "134              20.0                   170.0            0.6  "
      ]
     },
     "execution_count": 40,
     "metadata": {},
     "output_type": "execute_result"
    }
   ],
   "source": [
    "import pandas as pd\n",
    "import numpy as np\n",
    "import os\n",
    "import sys\n",
    "sys.path.append(\"/home/yuxk/mycode/MathModelng/Weather Forecast/\")\n",
    "\n",
    "data_path = \"./附件1 监测点A空气质量预报基础数据.xlsx\"\n",
    "df = pd.read_excel(data_path, sheet_name=2)\n",
    "df.iloc[131:135,:]"
   ]
  },
  {
   "cell_type": "code",
   "execution_count": 49,
   "metadata": {},
   "outputs": [
    {
     "name": "stdout",
     "output_type": "stream",
     "text": [
      "[10, 34, 51, 56, 36, 21]\n",
      "[6, 31, 21, 21, 31, 16]\n",
      "[5, 33, 0, 13, 29, 16]\n",
      "[7, 41, 43, 29, 110, 16]\n"
     ]
    },
    {
     "name": "stderr",
     "output_type": "stream",
     "text": [
      "/tmp/ipykernel_872458/2247376743.py:34: SettingWithCopyWarning: \n",
      "A value is trying to be set on a copy of a slice from a DataFrame\n",
      "\n",
      "See the caveats in the documentation: https://pandas.pydata.org/pandas-docs/stable/user_guide/indexing.html#returning-a-view-versus-a-copy\n",
      "  data.fillna(0, inplace=True)\n"
     ]
    },
    {
     "data": {
      "text/plain": [
       "[(56, 'PM2.5'), (31, 'NO2'), (33, 'NO2'), (110, 'O3')]"
      ]
     },
     "execution_count": 49,
     "metadata": {},
     "output_type": "execute_result"
    }
   ],
   "source": [
    "table_pollu = [[0, 50, 150, 475, 800, 1600, 2100,2620],\\\n",
    "            [0, 40, 80, 180, 280, 565, 750, 940], \\\n",
    "            [0, 50, 150, 250, 350, 420, 500, 600], \\\n",
    "            [0, 35, 75, 115, 150, 250, 350, 500],\\\n",
    "            [0, 100, 160, 215, 265, 800], \\\n",
    "            [0, 2, 4, 14, 24, 36, 48, 60]]\n",
    "aqi_sc = [0, 50, 100, 150, 200, 300, 400, 500]\n",
    "\n",
    "def calcu_AQI(data, aqi_list, pollu_list):\n",
    "    name = ['SO2', 'NO2', 'PM10', 'PM2.5', 'O3', 'CO']\n",
    "    iaqi = []\n",
    "    for p in range(len(data)):\n",
    "        pos = 0\n",
    "        if data[p] == 0:\n",
    "            iaqi.append(0)\n",
    "            continue\n",
    "        for idx in range(len(pollu_list[p])):\n",
    "            if data[p] < pollu_list[p][idx]:\n",
    "                pos = idx\n",
    "                break\n",
    "        iaqi_h, iaqi_l,hp, bp = aqi_list[pos], aqi_list[pos-1], pollu_list[p][pos], pollu_list[p][pos-1] \n",
    "        iaqi_p = (iaqi_h - iaqi_l) / (hp - bp)*(data[p] - bp) + iaqi_l\n",
    "        # print(iaqi_p)\n",
    "        iaqi.append(int(iaqi_p) + 1)\n",
    "    print(iaqi)\n",
    "    aqi = max(iaqi)\n",
    "    first_p = name[np.argmax(np.array(iaqi))]\n",
    "    return (aqi, first_p)\n",
    "        \n",
    "        \n",
    "# print(df[\"监测日期\"][131])\n",
    "data = df.iloc[131:135,:]\n",
    "# print(data.head)\n",
    "data.fillna(0, inplace=True)\n",
    "# print(data)\n",
    "res = []\n",
    "for idx, row in data.iterrows():\n",
    "    temp = calcu_AQI(row.iloc[2:8], aqi_sc, table_pollu)\n",
    "    res.append(temp)\n",
    "res\n",
    "        "
   ]
  }
 ],
 "metadata": {
  "kernelspec": {
   "display_name": "Python 3.8.13 ('pytorch': conda)",
   "language": "python",
   "name": "python3"
  },
  "language_info": {
   "codemirror_mode": {
    "name": "ipython",
    "version": 3
   },
   "file_extension": ".py",
   "mimetype": "text/x-python",
   "name": "python",
   "nbconvert_exporter": "python",
   "pygments_lexer": "ipython3",
   "version": "3.8.13"
  },
  "orig_nbformat": 4,
  "vscode": {
   "interpreter": {
    "hash": "8323fe3177b887d173177365811fd4c4c7911cfb2ec97261f780e85626804da1"
   }
  }
 },
 "nbformat": 4,
 "nbformat_minor": 2
}
